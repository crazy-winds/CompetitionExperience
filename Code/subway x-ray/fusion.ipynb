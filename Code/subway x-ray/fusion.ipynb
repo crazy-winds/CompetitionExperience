{
 "cells": [
  {
   "cell_type": "code",
   "execution_count": 2,
   "id": "5cf25441-8787-4dc4-860e-ed18dd286bad",
   "metadata": {},
   "outputs": [],
   "source": [
    "import torch\n",
    "\n",
    "pts = [\n",
    "    \"work_dir/RTMDet_best.pt\",\n",
    "    \"work_dir/RTMDet_model.pt\",\n",
    "    \"work_dir/RTMDet_ema.pt\",\n",
    "    \"work_dir/48.pt\",\n",
    "    # \"work_dir/RTMDet_swa.pt\"\n",
    "]\n",
    "models = [torch.load(pt, \"cpu\")[\"model\"]  for pt in pts]\n",
    "keys = list(models[0])\n",
    "\n",
    "for key in keys:\n",
    "    for i in range(1, len(models)):\n",
    "        models[0][key] = models[0][key] + models[i][key]\n",
    "    models[0][key] = models[0][key] / len(models)\n",
    "\n",
    "torch.save({\"model\": models[0]}, \"work_dir/RTMDet_fusion.pt\")"
   ]
  }
 ],
 "metadata": {
  "kernelspec": {
   "display_name": "Python 3 (ipykernel)",
   "language": "python",
   "name": "python3"
  },
  "language_info": {
   "codemirror_mode": {
    "name": "ipython",
    "version": 3
   },
   "file_extension": ".py",
   "mimetype": "text/x-python",
   "name": "python",
   "nbconvert_exporter": "python",
   "pygments_lexer": "ipython3",
   "version": "3.10.10"
  }
 },
 "nbformat": 4,
 "nbformat_minor": 5
}
